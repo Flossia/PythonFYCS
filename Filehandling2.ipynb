{
  "nbformat": 4,
  "nbformat_minor": 0,
  "metadata": {
    "colab": {
      "name": "Filehandling2.ipynb",
      "provenance": [],
      "authorship_tag": "ABX9TyPvzY4DkGNvdRm0JSSFswLF",
      "include_colab_link": true
    },
    "kernelspec": {
      "name": "python3",
      "display_name": "Python 3"
    },
    "language_info": {
      "name": "python"
    }
  },
  "cells": [
    {
      "cell_type": "markdown",
      "metadata": {
        "id": "view-in-github",
        "colab_type": "text"
      },
      "source": [
        "<a href=\"https://colab.research.google.com/github/Flossia/PythonFYCS/blob/main/Filehandling2.ipynb\" target=\"_parent\"><img src=\"https://colab.research.google.com/assets/colab-badge.svg\" alt=\"Open In Colab\"/></a>"
      ]
    },
    {
      "cell_type": "code",
      "execution_count": null,
      "metadata": {
        "id": "TG9r2-wjcQY6"
      },
      "outputs": [],
      "source": [
        "fruits = [\"Apple\\n\", \"Orange\\n\", \"Banana\"]\n",
        "f = open('fruits.txt','w')\n",
        "f.writelines(fruits)\n",
        "f.close()"
      ]
    },
    {
      "cell_type": "code",
      "source": [
        ""
      ],
      "metadata": {
        "id": "tJNiNLuU9XoA"
      },
      "execution_count": null,
      "outputs": []
    },
    {
      "cell_type": "code",
      "source": [
        "f = open('/content/fruits.txt', 'a')\n",
        "f.write(\"\\nGuava\")\n",
        "f.close()"
      ],
      "metadata": {
        "id": "NmfUWnSHeaXA"
      },
      "execution_count": null,
      "outputs": []
    },
    {
      "cell_type": "code",
      "source": [
        "f = open('/content/fruits.txt', 'w+')\n",
        "print(\"File Name:\", f.name)\n",
        "print(\"File Mode:\", f.mode)\n",
        "print(\"File Encoding Scheme\", f.encoding)\n",
        "print(\"Is file closed?\", f.closed)\n",
        "f.close()\n",
        "print(\"Is file closed?\", f.closed)"
      ],
      "metadata": {
        "colab": {
          "base_uri": "https://localhost:8080/"
        },
        "id": "lePFnGKAfxbW",
        "outputId": "adecc21a-bc2b-4dfc-bf2d-64e0f6bdda10"
      },
      "execution_count": null,
      "outputs": [
        {
          "output_type": "stream",
          "name": "stdout",
          "text": [
            "File Name: /content/fruits.txt\n",
            "File Mode: w+\n",
            "File Encoding Scheme UTF-8\n",
            "Is file closed? False\n",
            "Is file closed? True\n"
          ]
        }
      ]
    },
    {
      "cell_type": "code",
      "source": [
        "import os\n",
        "data = '/content/abc.txt'\n",
        "if(not os.path.isfile(data)):\n",
        "  print(\"Error %s File Not Found\"% data)\n",
        "else:\n",
        "  print(\"Success %s File Found\"% data)"
      ],
      "metadata": {
        "colab": {
          "base_uri": "https://localhost:8080/"
        },
        "id": "iz2e9ecrjQSm",
        "outputId": "96183120-d339-43be-80ed-78f107a4b082"
      },
      "execution_count": null,
      "outputs": [
        {
          "output_type": "stream",
          "name": "stdout",
          "text": [
            "Error /content/abc.txt File Not Found\n"
          ]
        }
      ]
    },
    {
      "cell_type": "code",
      "source": [
        "import os\n",
        "data = '/content/sample_data/README.md'\n",
        "if(not os.path.isfile(data)):\n",
        "  print(\"Error %s File Not Found\"% data)\n",
        "else:\n",
        "  print(\"Success %s File Found\"% data)"
      ],
      "metadata": {
        "colab": {
          "base_uri": "https://localhost:8080/"
        },
        "id": "N--E37gvkKRY",
        "outputId": "9873a707-0251-4185-f0a6-1cffe92fb5f9"
      },
      "execution_count": null,
      "outputs": [
        {
          "output_type": "stream",
          "name": "stdout",
          "text": [
            "Success /content/sample_data/README.md File Found\n"
          ]
        }
      ]
    },
    {
      "cell_type": "code",
      "source": [
        "import os\n",
        "data1 = '/content/sample_data/README.md'\n",
        "try:\n",
        "  with open(data1) as f: print(\"File found\")\n",
        "except IOError as e:\n",
        "  print(\"Error: %s File Not Found\"% data1)"
      ],
      "metadata": {
        "colab": {
          "base_uri": "https://localhost:8080/"
        },
        "id": "rFdCkHrOks7C",
        "outputId": "96fa76f0-196c-4818-8587-a5299c951bfe"
      },
      "execution_count": null,
      "outputs": [
        {
          "output_type": "stream",
          "name": "stdout",
          "text": [
            "File found\n"
          ]
        }
      ]
    },
    {
      "cell_type": "code",
      "source": [
        "with open ('abc.txt', 'w') as f:\n",
        "  f.write(\"Hello Python!\")"
      ],
      "metadata": {
        "id": "_KwxCeqadbpD"
      },
      "execution_count": null,
      "outputs": []
    },
    {
      "cell_type": "code",
      "source": [
        "f = open('/content/abc.txt', 'r')\n",
        "print(f.tell())\n",
        "f.seek(7)\n",
        "print(f.tell())\n",
        "data = f.read()\n",
        "print(data)\n",
        "print(f.tell())\n",
        "f.seek(0)\n",
        "print(f.tell())"
      ],
      "metadata": {
        "colab": {
          "base_uri": "https://localhost:8080/"
        },
        "id": "wCQshrTLfzSk",
        "outputId": "fd04a974-4a4d-427d-cca1-cb6772b3472d"
      },
      "execution_count": null,
      "outputs": [
        {
          "output_type": "stream",
          "name": "stdout",
          "text": [
            "0\n",
            "7\n",
            "ython!\n",
            "13\n",
            "0\n"
          ]
        }
      ]
    },
    {
      "cell_type": "code",
      "source": [
        "with open('hello.txt', 'w') as f:\n",
        "  f.write(\"Hello Python\\n\")"
      ],
      "metadata": {
        "id": "aOEqXUPhjLpw"
      },
      "execution_count": null,
      "outputs": []
    },
    {
      "cell_type": "code",
      "source": [
        "import mmap\n",
        "with open('/content/hello.txt','rb+') as f:\n",
        "  mm = mmap.mmap(f.fileno(), 0)\n",
        "  print(mm.readline())\n",
        "  print(mm[:5])\n",
        "  print(mm[6:])\n",
        "  mm.seek(0)\n",
        "  print(f.tell())\n",
        "  data1 = f.read(3)\n",
        "  print(data1)"
      ],
      "metadata": {
        "colab": {
          "base_uri": "https://localhost:8080/"
        },
        "id": "k28Y79fSjoHN",
        "outputId": "89f3de9e-d195-457c-8db6-2a519a76c69d"
      },
      "execution_count": null,
      "outputs": [
        {
          "output_type": "stream",
          "name": "stdout",
          "text": [
            "b'Hello Python\\n'\n",
            "b'Hello'\n",
            "b'Python\\n'\n",
            "0\n",
            "b'Hel'\n"
          ]
        }
      ]
    },
    {
      "cell_type": "code",
      "source": [
        "import os\n",
        "os.mkdir('Python')"
      ],
      "metadata": {
        "id": "sh54xSe8LAvP"
      },
      "execution_count": null,
      "outputs": []
    },
    {
      "cell_type": "code",
      "source": [
        "import os\n",
        "os.getcwd()"
      ],
      "metadata": {
        "colab": {
          "base_uri": "https://localhost:8080/",
          "height": 35
        },
        "id": "xLfxlNuULv8B",
        "outputId": "e0282062-e7d1-4a16-f9d4-ef816851379a"
      },
      "execution_count": null,
      "outputs": [
        {
          "output_type": "execute_result",
          "data": {
            "application/vnd.google.colaboratory.intrinsic+json": {
              "type": "string"
            },
            "text/plain": [
              "'/content'"
            ]
          },
          "metadata": {},
          "execution_count": 2
        }
      ]
    },
    {
      "cell_type": "code",
      "source": [
        "import os\n",
        "os.chdir('/content/Python_sample')"
      ],
      "metadata": {
        "id": "uV62Q9umMjf6"
      },
      "execution_count": null,
      "outputs": []
    },
    {
      "cell_type": "code",
      "source": [
        "import os\n",
        "path = ('/content/Python_sample')\n",
        "cur = os.getcwd()\n",
        "print(\"Current Working Directory:\", cur)\n",
        "os.chdir('/content/Python')\n",
        "cur = os.getcwd()\n",
        "print(\"Changed directory is:\", cur)"
      ],
      "metadata": {
        "colab": {
          "base_uri": "https://localhost:8080/"
        },
        "id": "FfsrBxerMs35",
        "outputId": "32133784-7492-4903-bd0c-80671e034666"
      },
      "execution_count": null,
      "outputs": [
        {
          "output_type": "stream",
          "name": "stdout",
          "text": [
            "Current Working Directory: /content/Python\n",
            "Changed directory is: /content/Python\n"
          ]
        }
      ]
    },
    {
      "cell_type": "code",
      "source": [
        "import os\n",
        "os.rmdir('/content/Python_sample')"
      ],
      "metadata": {
        "id": "lMJPZEbSQCyE"
      },
      "execution_count": null,
      "outputs": []
    },
    {
      "cell_type": "code",
      "source": [
        "from zipfile import ZipFile\n",
        "fn = '/content/sample_data/abc.zip'\n",
        "with ZipFile(fn, 'w') as zip:\n",
        "  zip.printdir()\n",
        "  print(\"Extracting all the file\")\n",
        "  zip.extractall()\n",
        "  print('Done')\n"
      ],
      "metadata": {
        "colab": {
          "base_uri": "https://localhost:8080/"
        },
        "id": "UIJ0kp8w9aKb",
        "outputId": "5ee9cc2a-b89a-41c9-ec42-5faf2569aea8"
      },
      "execution_count": null,
      "outputs": [
        {
          "output_type": "stream",
          "name": "stdout",
          "text": [
            "File Name                                             Modified             Size\n",
            "Extracting all the file\n",
            "Done\n"
          ]
        }
      ]
    },
    {
      "cell_type": "code",
      "source": [
        "from zipfile import ZipFile\n",
        "f = '/content/sample_data/README.md'\n",
        "f.ZipFile('archieve.zip')"
      ],
      "metadata": {
        "id": "lDm-MU06_anD"
      },
      "execution_count": null,
      "outputs": []
    }
  ]
}