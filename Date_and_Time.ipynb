{
  "cells": [
    {
      "cell_type": "markdown",
      "metadata": {
        "id": "view-in-github",
        "colab_type": "text"
      },
      "source": [
        "<a href=\"https://colab.research.google.com/github/Flossia/PythonFYCS/blob/main/Date_and_Time.ipynb\" target=\"_parent\"><img src=\"https://colab.research.google.com/assets/colab-badge.svg\" alt=\"Open In Colab\"/></a>"
      ]
    },
    {
      "cell_type": "markdown",
      "metadata": {
        "id": "wi4F5w8tFej0"
      },
      "source": [
        "**Epoch**"
      ]
    },
    {
      "cell_type": "code",
      "execution_count": null,
      "metadata": {
        "colab": {
          "base_uri": "https://localhost:8080/"
        },
        "id": "PYrMCqhQL5VV",
        "outputId": "a8cfc26e-9e85-445d-c1f0-11545e39aab5"
      },
      "outputs": [
        {
          "data": {
            "text/plain": [
              "time.struct_time(tm_year=1970, tm_mon=1, tm_mday=1, tm_hour=0, tm_min=0, tm_sec=0, tm_wday=3, tm_yday=1, tm_isdst=0)"
            ]
          },
          "execution_count": 1,
          "metadata": {},
          "output_type": "execute_result"
        }
      ],
      "source": [
        "import time\n",
        "time.gmtime(0)"
      ]
    },
    {
      "cell_type": "code",
      "execution_count": null,
      "metadata": {
        "colab": {
          "base_uri": "https://localhost:8080/"
        },
        "id": "Ozx2gCnLFG7f",
        "outputId": "7bd53bc6-7111-4cbe-c1a5-d8fb0610c7b6"
      },
      "outputs": [
        {
          "data": {
            "text/plain": [
              "time.struct_time(tm_year=2022, tm_mon=3, tm_mday=16, tm_hour=14, tm_min=14, tm_sec=47, tm_wday=2, tm_yday=75, tm_isdst=0)"
            ]
          },
          "execution_count": 1,
          "metadata": {},
          "output_type": "execute_result"
        }
      ],
      "source": [
        "import time\n",
        "time.gmtime()"
      ]
    },
    {
      "cell_type": "markdown",
      "metadata": {
        "id": "SiU_GssdGEHf"
      },
      "source": [
        "**To check values of time attributes**"
      ]
    },
    {
      "cell_type": "code",
      "execution_count": null,
      "metadata": {
        "colab": {
          "base_uri": "https://localhost:8080/"
        },
        "id": "jgJja0HTMaBJ",
        "outputId": "78de92a8-dfdf-4940-ce60-54abe1ce760e"
      },
      "outputs": [
        {
          "name": "stdout",
          "output_type": "stream",
          "text": [
            "02:10:15.000020\n",
            "Hour is: 2\n",
            "Minutes is: 10\n",
            "Seconds is 15\n",
            "Microseconds is 20\n"
          ]
        }
      ],
      "source": [
        "import datetime\n",
        "a = datetime.time(2,10,15,20)\n",
        "print(a)\n",
        "print(\"Hour is:\", a.hour)\n",
        "print(\"Minutes is:\",a.minute)\n",
        "print(\"Seconds is\",a.second)\n",
        "print(\"Microseconds is\",a.microsecond)"
      ]
    },
    {
      "cell_type": "markdown",
      "metadata": {
        "id": "6OlA4KjCIDAM"
      },
      "source": [
        "**To check values of Date Attributes**"
      ]
    },
    {
      "cell_type": "code",
      "execution_count": null,
      "metadata": {
        "colab": {
          "base_uri": "https://localhost:8080/"
        },
        "id": "l3e0gQqaNSho",
        "outputId": "cf04e950-53ac-4fb3-9ba1-c282b4417658"
      },
      "outputs": [
        {
          "name": "stdout",
          "output_type": "stream",
          "text": [
            "2022-03-19\n",
            "Year is 2022\n",
            "Month is 3\n",
            "Day is 19\n"
          ]
        }
      ],
      "source": [
        "import datetime\n",
        "current_day =datetime.date.today()\n",
        "print(current_day)\n",
        "print(\"Year is\",current_day.year)\n",
        "print(\"Month is\",current_day.month)\n",
        "print(\"Day is\",current_day.day)"
      ]
    },
    {
      "cell_type": "markdown",
      "metadata": {
        "id": "fU9jQOOZIec5"
      },
      "source": [
        "**To print datetime of year now**"
      ]
    },
    {
      "cell_type": "code",
      "execution_count": null,
      "metadata": {
        "colab": {
          "base_uri": "https://localhost:8080/"
        },
        "id": "AYL64zUlOhAg",
        "outputId": "7db7cd6e-23b9-40d7-a7cc-f99e0824d4c0"
      },
      "outputs": [
        {
          "name": "stdout",
          "output_type": "stream",
          "text": [
            "Current Year is: 2022\n",
            "Current Month is:3\n",
            "Current Day is:16\n",
            "Current Hour is:5\n",
            "Current Minute is:42\n",
            "Current Second is:52\n",
            "Current Microsecond is: 883741\n"
          ]
        }
      ],
      "source": [
        "import datetime\n",
        "DTnow = datetime.datetime.now()\n",
        "print(\"Current Year is: %d\" % DTnow.year)\n",
        "print(\"Current Month is:%d\" % DTnow.month)\n",
        "print(\"Current Day is:%d\" % DTnow.day)\n",
        "print(\"Current Hour is:%d\" % DTnow.hour)\n",
        "print(\"Current Minute is:%d\" % DTnow.minute)\n",
        "print(\"Current Second is:%d\" % DTnow.second)\n",
        "print(\"Current Microsecond is: %d\" % DTnow.microsecond)"
      ]
    },
    {
      "cell_type": "code",
      "execution_count": null,
      "metadata": {
        "colab": {
          "background_save": true,
          "base_uri": "https://localhost:8080/"
        },
        "id": "-3KTp_PIQHUQ",
        "outputId": "1bb90f70-5668-4607-acb6-f3589365b562"
      },
      "outputs": [
        {
          "name": "stdout",
          "output_type": "stream",
          "text": [
            "Present datetime is 2022-03-19 06:59:35.878893\n",
            "Datetime of today is 2022-03-19 06:59:35.880903\n",
            "Present UTC is 2022-03-19 06:59:35.881992\n",
            "year is 2022\n",
            "month is 3\n",
            "day is 19\n",
            "hour is 6\n",
            "minute is 59\n",
            "second is 35\n",
            "microsecond is 882793\n"
          ]
        }
      ],
      "source": [
        "import datetime\n",
        "print(\"Present datetime is\", datetime.datetime.now())\n",
        "print(\"Datetime of today is\", datetime.datetime.today())\n",
        "print(\"Present UTC is\", datetime.datetime.utcnow())\n",
        "x = datetime.datetime.now()\n",
        "for var in ['year','month', 'day', 'hour', 'minute', 'second', 'microsecond']:\n",
        "  print(var, 'is', getattr(x,var))"
      ]
    },
    {
      "cell_type": "markdown",
      "metadata": {
        "id": "WmgufH7kNHEF"
      },
      "source": [
        "**Formatting date and time**"
      ]
    },
    {
      "cell_type": "code",
      "execution_count": null,
      "metadata": {
        "colab": {
          "base_uri": "https://localhost:8080/"
        },
        "id": "ONadd3oTTnP5",
        "outputId": "84ffd193-c170-41d4-910b-f2d1cce0ae6f"
      },
      "outputs": [
        {
          "name": "stdout",
          "output_type": "stream",
          "text": [
            "Printing datetime as per ISO: 2022-03-16 06:03:18.858600\n",
            "Printing datetime using strftime: Wed Mar 16 06:03:18 2022\n",
            "Printing datetime using strptime: Wed Mar 16 06:03:18 2022\n"
          ]
        }
      ],
      "source": [
        "import datetime\n",
        "format = \"%a %b %d %H:%M:%S %Y\"\n",
        "today = datetime.datetime.today()\n",
        "print(\"Printing datetime as per ISO:\", today)\n",
        "x = today.strftime(format)\n",
        "print(\"Printing datetime using strftime:\", x)\n",
        "y = datetime.datetime.strptime(x, format)\n",
        "print(\"Printing datetime using strptime:\", y.strftime(format))"
      ]
    },
    {
      "cell_type": "markdown",
      "metadata": {
        "id": "x-VQo0dxNC7p"
      },
      "source": [
        "**TimeDelta**"
      ]
    },
    {
      "cell_type": "code",
      "execution_count": null,
      "metadata": {
        "colab": {
          "base_uri": "https://localhost:8080/"
        },
        "id": "T9eGy0awUx_g",
        "outputId": "ed81d201-1ea4-48aa-f91b-b5b9032571f8"
      },
      "outputs": [
        {
          "name": "stdout",
          "output_type": "stream",
          "text": [
            "Printing the value of seconds: 0:00:05\n",
            "Printing the value of hours: 5:00:00\n",
            "Printing the value of days: 5 days, 0:00:00\n",
            "Printing the value of weeks: 35 days, 0:00:00\n",
            "Printing the value of microseconds: 0:00:00.000005\n",
            "Printing the value of milliseconds: 0:00:00.005000\n"
          ]
        }
      ],
      "source": [
        "import datetime\n",
        "print(\"Printing the value of seconds:\", datetime.timedelta(seconds=5))\n",
        "print(\"Printing the value of hours:\", datetime.timedelta(hours=5))\n",
        "print(\"Printing the value of days:\", datetime.timedelta(days=5))\n",
        "print(\"Printing the value of weeks:\", datetime.timedelta(weeks=5))\n",
        "print(\"Printing the value of microseconds:\", datetime.timedelta(microseconds=5))\n",
        "print(\"Printing the value of milliseconds:\", datetime.timedelta(milliseconds=5))"
      ]
    },
    {
      "cell_type": "code",
      "execution_count": null,
      "metadata": {
        "colab": {
          "base_uri": "https://localhost:8080/"
        },
        "id": "1ZnEQTppWG0I",
        "outputId": "e28d9bb3-1fff-4da9-9aa5-844051ae502d"
      },
      "outputs": [
        {
          "name": "stdout",
          "output_type": "stream",
          "text": [
            "2.6464462280273438e-05\n"
          ]
        }
      ],
      "source": [
        "import time\n",
        "start_time = time.time()\n",
        "end_time = time.time()\n",
        "print(end_time - start_time)"
      ]
    },
    {
      "cell_type": "markdown",
      "metadata": {
        "id": "iDEk4d04M80g"
      },
      "source": [
        "**Time taken by program for executiom**"
      ]
    },
    {
      "cell_type": "code",
      "execution_count": null,
      "metadata": {
        "colab": {
          "base_uri": "https://localhost:8080/"
        },
        "id": "0IFOArLbWXS4",
        "outputId": "d5b8befc-7bf3-414e-87b6-cc921adb12c6"
      },
      "outputs": [
        {
          "name": "stdout",
          "output_type": "stream",
          "text": [
            "Average marks of 5 subjects =  9.8\n",
            "Time taken to calculate the program 0.0011174678802490234\n"
          ]
        }
      ],
      "source": [
        "import time\n",
        "start_time = time.time()\n",
        "a = 7\n",
        "b = 3\n",
        "c = 9\n",
        "d = 11\n",
        "e = 19\n",
        "avg = (float(a)+float(b)+float(c)+float(d)+float(e))/5\n",
        "print(\"Average marks of 5 subjects = \", avg)\n",
        "end_time = time.time()\n",
        "print(\"Time taken to calculate the program\", end_time - start_time)"
      ]
    },
    {
      "cell_type": "markdown",
      "metadata": {
        "id": "7qrMcNvGM44Q"
      },
      "source": [
        "**Calendar module**"
      ]
    },
    {
      "cell_type": "code",
      "execution_count": null,
      "metadata": {
        "colab": {
          "base_uri": "https://localhost:8080/"
        },
        "id": "GlV1xTb3XI6P",
        "outputId": "ae4bed28-0b87-4bb3-f6a7-c1de0840fbd6"
      },
      "outputs": [
        {
          "name": "stdout",
          "output_type": "stream",
          "text": [
            "     July 2018\n",
            "Su Mo Tu We Th Fr Sa\n",
            " 1  2  3  4  5  6  7\n",
            " 8  9 10 11 12 13 14\n",
            "15 16 17 18 19 20 21\n",
            "22 23 24 25 26 27 28\n",
            "29 30 31\n"
          ]
        }
      ],
      "source": [
        "import calendar\n",
        "x = calendar.TextCalendar(calendar.SUNDAY)\n",
        "x.prmonth(2018,7)"
      ]
    },
    {
      "cell_type": "markdown",
      "source": [
        "**Sorting Dates**"
      ],
      "metadata": {
        "id": "kwXEFGPGd9MO"
      }
    },
    {
      "cell_type": "code",
      "source": [
        "from datetime import datetime\n",
        "list_of_dates = ['18/Dec/18','28/Apr/17','13/Dec/18','01/Dec/16','09/Mar/17']\n",
        "list_of_dates.sort(key= lambda date:datetime.strptime(date,\"%d/%b/%y\"))\n",
        "print(list_of_dates)"
      ],
      "metadata": {
        "colab": {
          "base_uri": "https://localhost:8080/"
        },
        "id": "SszbulKwd8qB",
        "outputId": "5c8f8bce-163d-4468-902b-acdd059e5ed6"
      },
      "execution_count": null,
      "outputs": [
        {
          "output_type": "stream",
          "name": "stdout",
          "text": [
            "['01/Dec/16', '09/Mar/17', '28/Apr/17', '13/Dec/18', '18/Dec/18']\n"
          ]
        }
      ]
    },
    {
      "cell_type": "markdown",
      "source": [
        "**Stopping Execution Temporarily**"
      ],
      "metadata": {
        "id": "Z_3IrVTwe83p"
      }
    },
    {
      "cell_type": "code",
      "source": [
        "import time\n",
        "time.sleep(5)\n",
        "print(\"Printing after 5 seconds\")\n",
        "time.sleep(10)\n",
        "print(\"Printing after 10 seconds\")\n",
        "time.sleep(3)\n",
        "print(\"Printing after 3 seconds\")"
      ],
      "metadata": {
        "colab": {
          "base_uri": "https://localhost:8080/"
        },
        "id": "A98fa4qkfCHj",
        "outputId": "6c43b84c-7bdb-43fd-8aa3-982354f90a48"
      },
      "execution_count": null,
      "outputs": [
        {
          "output_type": "stream",
          "name": "stdout",
          "text": [
            "Printing after 5 seconds\n",
            "Printing after 10 seconds\n",
            "Printing after 3 seconds\n"
          ]
        }
      ]
    },
    {
      "cell_type": "markdown",
      "source": [
        "**Comparing two dates**"
      ],
      "metadata": {
        "id": "kmWUlJ6gfnAe"
      }
    },
    {
      "cell_type": "code",
      "source": [
        "import datetime\n",
        "import time\n",
        "print(\"Times Comparison\")\n",
        "time1 = datetime.time(10, 45, 0)\n",
        "print(\"\\ttime1:\", time1)\n",
        "time2 = datetime.time(11, 8, 0)\n",
        "print(\"\\ttime2:\", time2)\n",
        "print(\"time1<time2:\", time1<time2)"
      ],
      "metadata": {
        "colab": {
          "base_uri": "https://localhost:8080/"
        },
        "id": "buTg8eENfquj",
        "outputId": "343a3343-db87-4c2f-9c46-d57c8271ed0f"
      },
      "execution_count": null,
      "outputs": [
        {
          "output_type": "stream",
          "name": "stdout",
          "text": [
            "Times Comparison\n",
            "\ttime1: 10:45:00\n",
            "\ttime2: 11:08:00\n",
            "time1<time2: True\n"
          ]
        }
      ]
    }
  ],
  "metadata": {
    "colab": {
      "name": "Date and Time",
      "provenance": [],
      "authorship_tag": "ABX9TyM7GvR+VOQkIf2yXLCEL4iI",
      "include_colab_link": true
    },
    "kernelspec": {
      "display_name": "Python 3",
      "name": "python3"
    },
    "language_info": {
      "name": "python"
    }
  },
  "nbformat": 4,
  "nbformat_minor": 0
}