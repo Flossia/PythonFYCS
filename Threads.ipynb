{
  "nbformat": 4,
  "nbformat_minor": 0,
  "metadata": {
    "colab": {
      "name": "Threads.ipynb",
      "provenance": [],
      "authorship_tag": "ABX9TyOLgngcrtGbwAc5zIXzLm2g",
      "include_colab_link": true
    },
    "kernelspec": {
      "name": "python3",
      "display_name": "Python 3"
    },
    "language_info": {
      "name": "python"
    }
  },
  "cells": [
    {
      "cell_type": "markdown",
      "metadata": {
        "id": "view-in-github",
        "colab_type": "text"
      },
      "source": [
        "<a href=\"https://colab.research.google.com/github/Flossia/PythonFYCS/blob/main/Threads.ipynb\" target=\"_parent\"><img src=\"https://colab.research.google.com/assets/colab-badge.svg\" alt=\"Open In Colab\"/></a>"
      ]
    },
    {
      "cell_type": "code",
      "execution_count": null,
      "metadata": {
        "colab": {
          "base_uri": "https://localhost:8080/"
        },
        "id": "p9pFcKlWyvsd",
        "outputId": "542c995f-15f6-4366-bb15-45c8b729dcc3"
      },
      "outputs": [
        {
          "output_type": "stream",
          "name": "stdout",
          "text": [
            "This is the child thread\n",
            "This is the Main Thread\n"
          ]
        }
      ],
      "source": [
        "from threading import *\n",
        "def show():\n",
        "  print(\"This is the child thread\")\n",
        "t = Thread(target=show())\n",
        "t.start()\n",
        "print(\"This is the Main Thread\")"
      ]
    },
    {
      "cell_type": "code",
      "source": [
        "from threading import *"
      ],
      "metadata": {
        "id": "iSeS51ln0ogT"
      },
      "execution_count": null,
      "outputs": []
    },
    {
      "cell_type": "code",
      "source": [
        "def display():\n",
        "  for i in range(10,20):\n",
        "    print(i)\n",
        "t = Thread(target=display())\n",
        "t.start()"
      ],
      "metadata": {
        "colab": {
          "base_uri": "https://localhost:8080/"
        },
        "id": "GQ_xv4du0rgG",
        "outputId": "564d3de6-d464-4602-c678-036365191cc6"
      },
      "execution_count": null,
      "outputs": [
        {
          "output_type": "stream",
          "name": "stdout",
          "text": [
            "10\n",
            "11\n",
            "12\n",
            "13\n",
            "14\n",
            "15\n",
            "16\n",
            "17\n",
            "18\n",
            "19\n"
          ]
        }
      ]
    },
    {
      "cell_type": "code",
      "source": [
        "def disp(a):\n",
        "  for i in range(5):\n",
        "    print(\"Thread running\", a)\n",
        "t = Thread(target=disp, args =(10,))\n",
        "t.start()"
      ],
      "metadata": {
        "colab": {
          "base_uri": "https://localhost:8080/"
        },
        "id": "JxEbOWlG1ZAr",
        "outputId": "99915ab4-65e2-4e26-9b8b-fa80e1fe4100"
      },
      "execution_count": null,
      "outputs": [
        {
          "output_type": "stream",
          "name": "stdout",
          "text": [
            "Thread running 10\n",
            "Thread running 10\n",
            "Thread running 10\n",
            "Thread running 10\n",
            "Thread running 10\n"
          ]
        }
      ]
    },
    {
      "cell_type": "code",
      "source": [
        "class Mythread(Thread):\n",
        "  def run(self):\n",
        "    for i in range(5):\n",
        "      print(\"This is the child thread\")\n",
        "t = Mythread()\n",
        "t.start()\n",
        "for i in range(5):\n",
        "  print(\"This is the Main thread\")"
      ],
      "metadata": {
        "colab": {
          "base_uri": "https://localhost:8080/"
        },
        "id": "Jl4grPo-3JXN",
        "outputId": "8806c7d3-8dc6-446b-947f-7312e7017164"
      },
      "execution_count": null,
      "outputs": [
        {
          "output_type": "stream",
          "name": "stdout",
          "text": [
            "This is the child thread\n",
            "This is the child thread\n",
            "This is the child thread\n",
            "This is the child thread\n",
            "This is the child thread\n",
            "This is the Main thread\n",
            "This is the Main thread\n",
            "This is the Main thread\n",
            "This is the Main thread\n",
            "This is the Main thread\n"
          ]
        }
      ]
    },
    {
      "cell_type": "code",
      "source": [
        "class Demo:\n",
        "  def show(self):\n",
        "    for i in range(5):\n",
        "      print(\"This is the child thread\")\n",
        "obj = Demo()\n",
        "t = Thread(target=obj.show())\n",
        "t.start()\n",
        "for i in range(5):\n",
        "  print(\"This is the main thread\")"
      ],
      "metadata": {
        "colab": {
          "base_uri": "https://localhost:8080/"
        },
        "id": "HV8O9UfV5edi",
        "outputId": "0a2667ef-8469-4afe-bb89-34b6181618a7"
      },
      "execution_count": null,
      "outputs": [
        {
          "output_type": "stream",
          "name": "stdout",
          "text": [
            "This is the child thread\n",
            "This is the child thread\n",
            "This is the child thread\n",
            "This is the child thread\n",
            "This is the child thread\n",
            "This is the main thread\n",
            "This is the main thread\n",
            "This is the main thread\n",
            "This is the main thread\n",
            "This is the main thread\n"
          ]
        }
      ]
    },
    {
      "cell_type": "code",
      "source": [
        "import time\n",
        "class Demo:\n",
        "  def num(self):\n",
        "    for i in range(1,6):\n",
        "      print(\"The number is:\", i)\n",
        "      time.sleep(1)\n",
        "  def double(self):\n",
        "    for i in range(1,6):\n",
        "      print(\"The double is:\", 2*i)\n",
        "      time.sleep(1)\n",
        "  def square(self):\n",
        "    for i in range(1,6):\n",
        "      print(\"The square is:\", i*i)\n",
        "      time.sleep(1)\n",
        "obj = Demo()\n",
        "t1 = Thread(target=obj.num)\n",
        "t2 = Thread(target=obj.double)\n",
        "t3 = Thread(target=obj.square)\n",
        "\n",
        "t1.start()\n",
        "time.sleep(0.2)\n",
        "t2.start()\n",
        "time.sleep(0.2)\n",
        "t3.start()\n",
        "\n",
        "t1.join()\n",
        "t2.join()\n",
        "t3.join()\n"
      ],
      "metadata": {
        "colab": {
          "base_uri": "https://localhost:8080/"
        },
        "id": "iMI01mN_9fMs",
        "outputId": "78f27cc7-125a-469c-fb81-dcea8e65b85d"
      },
      "execution_count": null,
      "outputs": [
        {
          "output_type": "stream",
          "name": "stdout",
          "text": [
            "The number is: 1\n",
            "The double is: 2\n",
            "The square is: 1\n",
            "The number is: 2\n",
            "The double is: 4\n",
            "The square is: 4\n",
            "The number is: 3\n",
            "The double is: 6\n",
            "The square is: 9\n",
            "The number is: 4\n",
            "The double is: 8\n",
            "The square is: 16\n",
            "The number is: 5\n",
            "The double is: 10\n",
            "The square is: 25\n"
          ]
        }
      ]
    },
    {
      "cell_type": "code",
      "source": [
        "from threading import *\n",
        "import time\n",
        "def disp():\n",
        "  print(\"Child Thread Name:\", current_thread().getName())\n",
        "t = Thread(target = disp)\n",
        "t.start()\n",
        "time.sleep(1)\n",
        "print(\"Main Thread NAme:\", current_thread().getName())"
      ],
      "metadata": {
        "colab": {
          "base_uri": "https://localhost:8080/"
        },
        "id": "FFfWtVVh73us",
        "outputId": "e31da3b5-28f0-4639-9cae-8ad207dba2ef"
      },
      "execution_count": null,
      "outputs": [
        {
          "output_type": "stream",
          "name": "stdout",
          "text": [
            "Child Thread Name: Thread-15\n",
            "Main Thread NAme: MainThread\n"
          ]
        }
      ]
    },
    {
      "cell_type": "code",
      "source": [
        "from threading import *\n",
        "import time\n",
        "def disp():\n",
        "  print(\"Default thread name:\", current_thread().getName())\n",
        "  current_thread().setName('abc')\n",
        "  print(\"New thread name:\", current_thread().getName())\n",
        "t = Thread(target = disp)\n",
        "t.start()\n",
        "time.sleep(1)\n",
        "print(\"Default Main thread name:\", current_thread().getName())\n",
        "current_thread().setName('G thread')\n",
        "print(\"New Main thread name:\", current_thread().getName())"
      ],
      "metadata": {
        "colab": {
          "base_uri": "https://localhost:8080/"
        },
        "id": "0shwhjEk_MVR",
        "outputId": "4a95c526-271b-4256-e63c-c4c4505b6e75"
      },
      "execution_count": null,
      "outputs": [
        {
          "output_type": "stream",
          "name": "stdout",
          "text": [
            "Default thread name: Thread-17\n",
            "New thread name: abc\n",
            "Default Main thread name: G thread\n",
            "New Main thread name: G thread\n"
          ]
        }
      ]
    },
    {
      "cell_type": "code",
      "source": [
        "from threading import *\n",
        "import time\n",
        "def disp():\n",
        "  print(\"Child Thread Name:\", current_thread().name)\n",
        "t = Thread(target = disp)\n",
        "t.start()\n",
        "time.sleep(1)\n",
        "print(\"Main Thread NAme:\", current_thread().name)"
      ],
      "metadata": {
        "colab": {
          "base_uri": "https://localhost:8080/"
        },
        "id": "bleqdB1XCyf8",
        "outputId": "78613c27-7eb4-47a2-e9c1-034e69e5531c"
      },
      "execution_count": null,
      "outputs": [
        {
          "output_type": "stream",
          "name": "stdout",
          "text": [
            "Child Thread Name: Thread-12\n",
            "Main Thread NAme: MainThread\n"
          ]
        }
      ]
    },
    {
      "cell_type": "code",
      "source": [
        "from threading import *\n",
        "def disp():\n",
        "  pass\n",
        "t = Thread(target = disp())\n",
        "t.start()\n",
        "print(t.getName())\n",
        "t.setName('Flying thread')\n",
        "print(t.getName())"
      ],
      "metadata": {
        "colab": {
          "base_uri": "https://localhost:8080/"
        },
        "id": "jjWhsCVKDGtX",
        "outputId": "b6360951-235c-45c0-de02-ed5c8fbd703f"
      },
      "execution_count": null,
      "outputs": [
        {
          "output_type": "stream",
          "name": "stdout",
          "text": [
            "Thread-19\n",
            "Flying thread\n"
          ]
        }
      ]
    },
    {
      "cell_type": "code",
      "source": [
        "from threading import *\n",
        "def disp():\n",
        "  pass\n",
        "t = Thread(target = disp())\n",
        "t.start()\n",
        "print(t.name)\n",
        "t.name = \"thread\"\n",
        "print(t.name)"
      ],
      "metadata": {
        "colab": {
          "base_uri": "https://localhost:8080/"
        },
        "id": "4c3tJk6dFURw",
        "outputId": "05e3e44f-9dfb-4281-8f8a-e479cead6712"
      },
      "execution_count": null,
      "outputs": [
        {
          "output_type": "stream",
          "name": "stdout",
          "text": [
            "Thread-20\n",
            "thread\n"
          ]
        }
      ]
    },
    {
      "cell_type": "markdown",
      "source": [
        "**IsAlive()**"
      ],
      "metadata": {
        "id": "FErA-jdH2jDp"
      }
    },
    {
      "cell_type": "code",
      "source": [
        "from threading import *\n",
        "import time\n",
        "def thread_1(i):\n",
        "  time.sleep(1)\n",
        "  print(\"Value for thread 1:\", i)\n",
        "def thread_2(i):\n",
        "  time.sleep(1)\n",
        "  print(\"Value for thread 2:\", i)\n",
        "thread1 = Thread(target = thread_1, args = (1,))\n",
        "thread2 = Thread(target = thread_2, args = (2,))\n",
        "print(\"Is thread1 alive:\", thread1.is_alive())\n",
        "print(\"Is thread2 alive:\", thread2.is_alive())\n",
        "thread1.start()\n",
        "thread2.start()\n",
        "print(\"Is thread1 alive:\", thread1.is_alive())\n",
        "print(\"Is thread2 alive:\", thread2.is_alive())"
      ],
      "metadata": {
        "colab": {
          "base_uri": "https://localhost:8080/"
        },
        "id": "6b775bYKFt3a",
        "outputId": "5454903b-13b6-4931-dbe0-a649ccdd4e15"
      },
      "execution_count": null,
      "outputs": [
        {
          "output_type": "stream",
          "name": "stdout",
          "text": [
            "Is thread1 alive: False\n",
            "Is thread2 alive: False\n",
            "Is thread1 alive: True\n",
            "Is thread2 alive: True\n"
          ]
        }
      ]
    },
    {
      "cell_type": "code",
      "source": [
        "import threading\n",
        "def main():\n",
        "  print(threading.active_count())\n",
        "  print(threading.enumerate())\n",
        "  print(threading.current_thread())\n",
        "t = Thread(target = main())\n",
        "t.start()"
      ],
      "metadata": {
        "colab": {
          "base_uri": "https://localhost:8080/"
        },
        "id": "pxAx-Al3KjXN",
        "outputId": "d3e5e9f7-aed9-4cdf-8596-e464e4124b94"
      },
      "execution_count": null,
      "outputs": [
        {
          "output_type": "stream",
          "name": "stdout",
          "text": [
            "10\n",
            "[<_MainThread(G thread, started 139621047650176)>, <Thread(Thread-2, started daemon 139620640315136)>, <Heartbeat(Thread-3, started daemon 139620631922432)>, <ParentPollerUnix(Thread-1, started daemon 139620566001408)>, <WriterThread(pydevd.Writer, started daemon 139620542408448)>, <ReaderThread(pydevd.Reader, started daemon 139620534015744)>, <PyDBCommandThread(pydevd.CommandThread, started daemon 139620525623040)>, <CheckAliveThread(pydevd.CheckAliveThread, started 139620508837632)>, <_TimeoutThread(Thread-9, started daemon 139620517230336)>, <Thread(_colab_inspector_thread, started daemon 139620489934592)>]\n",
            "<_MainThread(G thread, started 139621047650176)>\n"
          ]
        }
      ]
    },
    {
      "cell_type": "markdown",
      "source": [
        "**Thread Synchronisation using Locks()**"
      ],
      "metadata": {
        "id": "kjSWHr3f2U5D"
      }
    },
    {
      "cell_type": "markdown",
      "source": [
        "Suppose that there are 100 dollars in a bank account. Every month, 10 dollars are deposited as profit, and 10 dollars are deducted to pay a bill. thread1 deposits the profit and thread2 pays for the bill. In some months, the profit is deposited after the bill is paid. However, this should not affect the final amount in the account."
      ],
      "metadata": {
        "id": "HstCzCm10q8J"
      }
    },
    {
      "cell_type": "code",
      "source": [
        "from threading import *\n",
        "deposit = 100\n",
        "def add_profit(): \n",
        "    global deposit\n",
        "    for i in range(100000):\n",
        "        deposit = deposit + 10\n",
        "def pay_bill(): \n",
        "    global deposit\n",
        "    for i in range(100000):\n",
        "        deposit = deposit - 10\n",
        "thread1 = Thread(target = add_profit, args = ())\n",
        "thread2 = Thread(target = pay_bill, args = ())\n",
        "thread1.start() \n",
        "thread2.start() \n",
        "thread1.join()\n",
        "thread2.join()\n",
        "print(deposit)"
      ],
      "metadata": {
        "colab": {
          "base_uri": "https://localhost:8080/"
        },
        "id": "gGgkG3s4z1ys",
        "outputId": "f318ac22-35c6-4c37-d88d-170e40f92e90"
      },
      "execution_count": null,
      "outputs": [
        {
          "output_type": "stream",
          "name": "stdout",
          "text": [
            "-192160\n"
          ]
        }
      ]
    },
    {
      "cell_type": "code",
      "source": [
        "import threading\n",
        "lock = threading.Lock()\n",
        "deposit = 100\n",
        "def add_profit(): \n",
        "    global deposit\n",
        "    for i in range(100000):\n",
        "        lock.acquire()\n",
        "        deposit = deposit + 10\n",
        "        lock.release()\n",
        "def pay_bill(): \n",
        "    global deposit\n",
        "    for i in range(100000):\n",
        "        lock.acquire()\n",
        "        deposit = deposit - 10\n",
        "        lock.release()\n",
        "thread1 = threading.Thread(target = add_profit, args = ())\n",
        "thread2 = threading.Thread(target = pay_bill, args = ())  \n",
        "thread1.start() \n",
        "thread2.start() \n",
        "thread1.join()\n",
        "thread2.join()\n",
        "print(deposit)"
      ],
      "metadata": {
        "colab": {
          "base_uri": "https://localhost:8080/"
        },
        "id": "fhVpD5v21U3x",
        "outputId": "05245009-8b94-4edf-d056-ffab531e6045"
      },
      "execution_count": null,
      "outputs": [
        {
          "output_type": "stream",
          "name": "stdout",
          "text": [
            "100\n"
          ]
        }
      ]
    },
    {
      "cell_type": "markdown",
      "source": [
        "**Synchronization using Semaphores**"
      ],
      "metadata": {
        "id": "geQPd2aS2Sz0"
      }
    },
    {
      "cell_type": "code",
      "source": [
        "import threading\n",
        "import time\n",
        "s = threading.Semaphore()\n",
        "def function1():\n",
        "  while True:\n",
        "    s.acquire() \n",
        "    print(1)\n",
        "    s.release() \n",
        "    time.sleep(0.25)\n",
        "def function2():\n",
        "  while True:\n",
        "    s.acquire()\n",
        "    print(2)\n",
        "    s.release()\n",
        "    time.sleep(0.5)\n",
        "t = threading.Thread(target = function1)\n",
        "t.start()\n",
        "t2 = threading.Thread(target=function2)\n",
        "t2.start()"
      ],
      "metadata": {
        "id": "BoOiPFtv20ky",
        "colab": {
          "base_uri": "https://localhost:8080/"
        },
        "outputId": "14ad1d26-615c-474f-bc8e-8bb1746143ec"
      },
      "execution_count": null,
      "outputs": [
        {
          "output_type": "stream",
          "name": "stdout",
          "text": [
            "2\n",
            "1\n",
            "1\n",
            "2\n"
          ]
        }
      ]
    },
    {
      "cell_type": "markdown",
      "source": [
        "**Deadlock**"
      ],
      "metadata": {
        "id": "z58Fl8Gn_Cq_"
      }
    },
    {
      "cell_type": "code",
      "source": [
        "import threading\n",
        "import time\n",
        "a = 5\n",
        "alock = threading.Lock()\n",
        "b = 5\n",
        "block = threading.Lock()\n",
        "def threadcalc1():\n",
        "  print(\"Thread1 acquires lock a\")\n",
        "  alock.acquire()\n",
        "  time.sleep(5)\n",
        "  print(\"Thread1 acquires lock b\")\n",
        "  block.acquire()\n",
        "  time.sleep(5)\n",
        "  a += 5\n",
        "  b += 5\n",
        "  print(\"Thread1 releases both locks\")\n",
        "  block.release()\n",
        "  alock.release()\n",
        "def threadcalc2():\n",
        "  print(\"Thread2 acquires lock b\")\n",
        "  alock.acquire()\n",
        "  time.sleep(5)\n",
        "  print(\"Thread2 acquires lock a\")\n",
        "  block.acquire()\n",
        "  time.sleep(5)\n",
        "  a += 10\n",
        "  b += 10\n",
        "  print(\"Thread2 releases both locks\")\n",
        "  block.release()\n",
        "  alock.release()\n",
        "t = threading.Thread(target = threadcalc1)\n",
        "t.setDaemon(1)\n",
        "t.start()\n",
        "t1 = threading.Thread(target = threadcalc2)\n",
        "t1.setDaemon(2)\n",
        "t1.start()"
      ],
      "metadata": {
        "colab": {
          "base_uri": "https://localhost:8080/"
        },
        "id": "iqln9gig4lBm",
        "outputId": "6e24353c-b13a-4571-f15b-95305411040c"
      },
      "execution_count": null,
      "outputs": [
        {
          "output_type": "stream",
          "name": "stdout",
          "text": [
            "1\n",
            "2\n",
            "1\n",
            "2\n",
            "1\n",
            "Thread1 acquires lock a\n",
            "Thread2 acquires lock b\n"
          ]
        }
      ]
    },
    {
      "cell_type": "code",
      "source": [
        "import threading\n",
        "lock1 = threading.Lock()\n",
        "lock2 = threading.Lock()\n",
        "def time():\n",
        "  while True:\n",
        "    with lock1.acquire(): \n",
        "      with lock2.acquire(): \n",
        "        print(\"Time.\") \n",
        "def space(): \n",
        "  while True: \n",
        "    with lock2.acquire(): \n",
        "      with lock1.acquire(): \n",
        "        print(\"SPace\") \n",
        "tl = threading.Thread(target = time) \n",
        "tl.daemon = True \n",
        "t2 = threading.Thread(target = space) \n",
        "t2.daemon = True \n",
        "tl.start()\n",
        "t2.start() \n"
      ],
      "metadata": {
        "id": "nuaFLuEgCbjQ",
        "colab": {
          "base_uri": "https://localhost:8080/"
        },
        "outputId": "57f2c25a-3f28-4905-ccc3-8a1f103813c7"
      },
      "execution_count": null,
      "outputs": [
        {
          "output_type": "stream",
          "name": "stdout",
          "text": [
            "1\n",
            "2\n",
            "1\n"
          ]
        },
        {
          "output_type": "stream",
          "name": "stderr",
          "text": [
            "Exception in thread Thread-45:\n",
            "Traceback (most recent call last):\n",
            "  File \"/usr/lib/python3.7/threading.py\", line 926, in _bootstrap_inner\n",
            "    self.run()\n",
            "  File \"/usr/lib/python3.7/threading.py\", line 870, in run\n",
            "    self._target(*self._args, **self._kwargs)\n",
            "  File \"<ipython-input-18-fdae270f98dd>\", line 6, in time\n",
            "    with lock1.acquire():\n",
            "AttributeError: __enter__\n",
            "\n",
            "Exception in thread Thread-46:\n",
            "Traceback (most recent call last):\n",
            "  File \"/usr/lib/python3.7/threading.py\", line 926, in _bootstrap_inner\n",
            "    self.run()\n",
            "  File \"/usr/lib/python3.7/threading.py\", line 870, in run\n",
            "    self._target(*self._args, **self._kwargs)\n",
            "  File \"<ipython-input-18-fdae270f98dd>\", line 11, in space\n",
            "    with lock2.acquire():\n",
            "AttributeError: __enter__\n",
            "\n",
            "Exception in thread Thread-41:\n",
            "Traceback (most recent call last):\n",
            "  File \"/usr/lib/python3.7/threading.py\", line 926, in _bootstrap_inner\n",
            "    self.run()\n",
            "  File \"/usr/lib/python3.7/threading.py\", line 870, in run\n",
            "    self._target(*self._args, **self._kwargs)\n",
            "  File \"<ipython-input-16-3c243ace9b24>\", line 9, in function1\n",
            "    time.sleep(0.25)\n",
            "AttributeError: 'function' object has no attribute 'sleep'\n",
            "\n",
            "Exception in thread Thread-43:\n",
            "Traceback (most recent call last):\n",
            "  File \"/usr/lib/python3.7/threading.py\", line 926, in _bootstrap_inner\n",
            "    self.run()\n",
            "  File \"/usr/lib/python3.7/threading.py\", line 870, in run\n",
            "    self._target(*self._args, **self._kwargs)\n",
            "  File \"<ipython-input-17-3c243ace9b24>\", line 9, in function1\n",
            "    time.sleep(0.25)\n",
            "AttributeError: 'function' object has no attribute 'sleep'\n",
            "\n"
          ]
        }
      ]
    }
  ]
}