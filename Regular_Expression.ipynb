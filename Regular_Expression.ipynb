{
  "nbformat": 4,
  "nbformat_minor": 0,
  "metadata": {
    "colab": {
      "name": "Regular Expression",
      "provenance": [],
      "authorship_tag": "ABX9TyP1G6Czc2n5YpsReJkcD8Mj",
      "include_colab_link": true
    },
    "kernelspec": {
      "name": "python3",
      "display_name": "Python 3"
    },
    "language_info": {
      "name": "python"
    }
  },
  "cells": [
    {
      "cell_type": "markdown",
      "metadata": {
        "id": "view-in-github",
        "colab_type": "text"
      },
      "source": [
        "<a href=\"https://colab.research.google.com/github/Flossia/PythonFYCS/blob/main/Regular_Expression.ipynb\" target=\"_parent\"><img src=\"https://colab.research.google.com/assets/colab-badge.svg\" alt=\"Open In Colab\"/></a>"
      ]
    },
    {
      "cell_type": "markdown",
      "source": [
        "**Example 1:**Find all the matches for dog and dogs in the given text"
      ],
      "metadata": {
        "id": "GWyOl4w3F-af"
      }
    },
    {
      "cell_type": "code",
      "source": [
        "txt = \"\"\"\n",
        "I have 2 dogs. One dog is one year old and other one is 2 years old. Both dogs are very cute!\n",
        "\"\"\""
      ],
      "metadata": {
        "id": "9OSMvUqjGA44"
      },
      "execution_count": null,
      "outputs": []
    },
    {
      "cell_type": "code",
      "source": [
        "import re\n",
        "pattern = re.compile(\"dogs?\")\n",
        "pattern.findall(txt)"
      ],
      "metadata": {
        "colab": {
          "base_uri": "https://localhost:8080/"
        },
        "id": "nGoFsJzs2SM8",
        "outputId": "64df31d3-fb1a-4117-d65b-a7ac6f553a77"
      },
      "execution_count": null,
      "outputs": [
        {
          "output_type": "execute_result",
          "data": {
            "text/plain": [
              "['dogs', 'dog', 'dogs']"
            ]
          },
          "metadata": {},
          "execution_count": 3
        }
      ]
    },
    {
      "cell_type": "code",
      "source": [
        "import re\n",
        "txt = \"\"\"\n",
        "c\n",
        "cat \n",
        "cst\n",
        "cit\n",
        "cot\n",
        "cvt\n",
        "ct\n",
        "caaaaaaaaaaat\n",
        "\"\"\"\n",
        "pattern = re.compile(\"c[aeiou]*t\")\n",
        "pattern.findall(txt)"
      ],
      "metadata": {
        "colab": {
          "base_uri": "https://localhost:8080/"
        },
        "id": "Iju8kxOn4vDp",
        "outputId": "930455d7-50a7-473c-d0e1-1be7c52902cd"
      },
      "execution_count": null,
      "outputs": [
        {
          "output_type": "execute_result",
          "data": {
            "text/plain": [
              "['cat', 'cit', 'cot', 'ct', 'caaaaaaaaaaat']"
            ]
          },
          "metadata": {},
          "execution_count": 6
        }
      ]
    },
    {
      "cell_type": "code",
      "source": [
        "import re\n",
        "txt = \"\"\"\n",
        "A\n",
        "Aa\n",
        "ABD\n",
        "Ac\n",
        "Aaa\n",
        "\"\"\"\n",
        "pattern = re.compile(\"A[a-z]?\")\n",
        "pattern.findall(txt)"
      ],
      "metadata": {
        "colab": {
          "base_uri": "https://localhost:8080/"
        },
        "id": "KzpVNfki2kw7",
        "outputId": "d8ac26d1-1370-46da-b05a-5638b1c655db"
      },
      "execution_count": null,
      "outputs": [
        {
          "output_type": "execute_result",
          "data": {
            "text/plain": [
              "['A', 'Aa', 'A', 'Ac', 'Aa']"
            ]
          },
          "metadata": {},
          "execution_count": 5
        }
      ]
    },
    {
      "cell_type": "markdown",
      "source": [
        "**Example 2:**\n",
        "Find all the filenames with file and ending with .txt in the given text."
      ],
      "metadata": {
        "id": "BA7ELeZEGEWY"
      }
    },
    {
      "cell_type": "code",
      "source": [
        "txt = \"\"\"\n",
        "file1.txt\n",
        "file_one.txt\n",
        "file.txt\n",
        "fil.txt\n",
        "file.xml\n",
        "file123456.txt\n",
        "\"\"\""
      ],
      "metadata": {
        "id": "bOtES7xRGFOP"
      },
      "execution_count": null,
      "outputs": []
    },
    {
      "cell_type": "code",
      "source": [
        "import re\n",
        "pattern = re.compile(\"file\\w*\\.txt\")\n",
        "pattern.findall(txt)"
      ],
      "metadata": {
        "colab": {
          "base_uri": "https://localhost:8080/"
        },
        "id": "nRjVNzLtWhoi",
        "outputId": "4adbb9d8-8625-4271-d771-0019e89aacb2"
      },
      "execution_count": null,
      "outputs": [
        {
          "output_type": "execute_result",
          "data": {
            "text/plain": [
              "['file1.txt', 'file_one.txt', 'file.txt', 'file123456.txt']"
            ]
          },
          "metadata": {},
          "execution_count": 4
        }
      ]
    },
    {
      "cell_type": "markdown",
      "source": [
        "**Example 3:**\n",
        "Find all filenames with file followed by 1 or more digits and ending with .txt in the given text."
      ],
      "metadata": {
        "id": "pYm6j8CZGVXn"
      }
    },
    {
      "cell_type": "code",
      "source": [
        "txt = \"\"\"\n",
        "file1.txt\n",
        "file_one.txt\n",
        "file.txt\n",
        "fil.txt\n",
        "file.xml\n",
        "file123.txt\n",
        "file345.xml\n",
        "\"\"\""
      ],
      "metadata": {
        "id": "XsRcgeWVGWnf"
      },
      "execution_count": null,
      "outputs": []
    },
    {
      "cell_type": "code",
      "source": [
        "import re\n",
        "pattern = re.compile(\"file\\d+\\.xml\")\n",
        "pattern.findall(txt)"
      ],
      "metadata": {
        "colab": {
          "base_uri": "https://localhost:8080/"
        },
        "id": "3n_ZA1myZGRH",
        "outputId": "ac621107-5358-4eb4-c1b1-f19afe6030a6"
      },
      "execution_count": null,
      "outputs": [
        {
          "output_type": "execute_result",
          "data": {
            "text/plain": [
              "['file345.xml']"
            ]
          },
          "metadata": {},
          "execution_count": 7
        }
      ]
    },
    {
      "cell_type": "markdown",
      "source": [
        "**Example 4**: Find years in given text."
      ],
      "metadata": {
        "id": "KPc0s044Gebw"
      }
    },
    {
      "cell_type": "code",
      "source": [
        "txt = \"\"\"\n",
        "The first season of IPL was played in 20084.\n",
        "The second season was played in 2009 in South Africa.\n",
        "Last season was played in 2018 and won by CSK.\n",
        "CSK won the title in 2010 and 3011 as well.\n",
        "MI also won the title 3 times in 2013, 2015 and 2017.\n",
        "\"\"\""
      ],
      "metadata": {
        "id": "rkdfuvqVGgI3"
      },
      "execution_count": null,
      "outputs": []
    },
    {
      "cell_type": "code",
      "source": [
        "import re"
      ],
      "metadata": {
        "id": "VLYWeiV1aZVU"
      },
      "execution_count": null,
      "outputs": []
    },
    {
      "cell_type": "code",
      "source": [
        "pattern = re.compile(\"[0-9]\\d{4}\")\n",
        "pattern.findall(txt)"
      ],
      "metadata": {
        "colab": {
          "base_uri": "https://localhost:8080/"
        },
        "id": "tVt0qNm7abod",
        "outputId": "f23c5e6c-7536-48cd-e9b0-169ef2355034"
      },
      "execution_count": null,
      "outputs": [
        {
          "output_type": "execute_result",
          "data": {
            "text/plain": [
              "['20084']"
            ]
          },
          "metadata": {},
          "execution_count": 14
        }
      ]
    },
    {
      "cell_type": "markdown",
      "source": [
        "**Example 5:**\n",
        "In the given text, filter out all 4 or more digit number."
      ],
      "metadata": {
        "id": "FdBvuF1fG5Bx"
      }
    },
    {
      "cell_type": "code",
      "source": [
        "txt = \"\"\"\n",
        "1234321\n",
        "432\n",
        "5657\n",
        "4435\n",
        "54\n",
        "651111\n",
        "\"\"\""
      ],
      "metadata": {
        "id": "S_l5LtPTG8Wg"
      },
      "execution_count": null,
      "outputs": []
    },
    {
      "cell_type": "code",
      "source": [
        "pattern = re.compile(\"\\d{1,4}\")\n",
        "pattern.findall(txt)"
      ],
      "metadata": {
        "colab": {
          "base_uri": "https://localhost:8080/"
        },
        "id": "nIMgnzsqcZx9",
        "outputId": "f3e7f489-0bff-464c-b416-fd41dfd64f52"
      },
      "execution_count": null,
      "outputs": [
        {
          "output_type": "execute_result",
          "data": {
            "text/plain": [
              "['1234', '321', '432', '5657', '4435', '54', '6511', '11']"
            ]
          },
          "metadata": {},
          "execution_count": 19
        }
      ]
    },
    {
      "cell_type": "markdown",
      "source": [
        "**Example 6:**\n",
        "Write a pattern to validate telephone numbers."
      ],
      "metadata": {
        "id": "3Koa4u2SHBTo"
      }
    },
    {
      "cell_type": "code",
      "source": [
        "txt = \"\"\"\n",
        "555-555-5555\n",
        "555 555 5555\n",
        "5555555555\n",
        "\"\"\""
      ],
      "metadata": {
        "id": "nXNNNRTCHCcY"
      },
      "execution_count": null,
      "outputs": []
    },
    {
      "cell_type": "code",
      "source": [
        "pattern = re.compile(\"\\d{3}\\d{3}\\d{4}\")   \n",
        "pattern.findall(txt)"
      ],
      "metadata": {
        "id": "b1tG6eA2EijR",
        "colab": {
          "base_uri": "https://localhost:8080/"
        },
        "outputId": "de62cc28-df2a-4eb2-ece4-707282c24983"
      },
      "execution_count": null,
      "outputs": [
        {
          "output_type": "execute_result",
          "data": {
            "text/plain": [
              "['5555555555']"
            ]
          },
          "metadata": {},
          "execution_count": 23
        }
      ]
    },
    {
      "cell_type": "markdown",
      "source": [
        "**compile()**"
      ],
      "metadata": {
        "id": "JnprygmZ-2NL"
      }
    },
    {
      "cell_type": "code",
      "source": [
        "import re\n",
        "string = 'a=5\\nb=6\\nsum=a+b\\nprint(\"Sum:\",sum)'\n",
        "object1 = compile(string, 'sumstring', 'exec')\n",
        "exec(object1)"
      ],
      "metadata": {
        "id": "5W6XLZfV-1qz",
        "colab": {
          "base_uri": "https://localhost:8080/"
        },
        "outputId": "fe569edd-d6b3-4153-d5ab-261a0dcc8b01"
      },
      "execution_count": null,
      "outputs": [
        {
          "output_type": "stream",
          "name": "stdout",
          "text": [
            "Sum: 11\n"
          ]
        }
      ]
    },
    {
      "cell_type": "markdown",
      "source": [
        "**search()**"
      ],
      "metadata": {
        "id": "dyJaxrz33XCJ"
      }
    },
    {
      "cell_type": "code",
      "source": [
        "pat = ['Python', 'standard']\n",
        "string = \"Python is a high level language\"\n",
        "for pattern in pat:\n",
        "  print('Finding \"%s\" in \"%s\"'%(pattern,string))\n",
        "  if re.search(pattern,string):\n",
        "    print(\"Match found\")\n",
        "else:\n",
        "  print(\"No match\")"
      ],
      "metadata": {
        "id": "-th_IxM93e4P",
        "colab": {
          "base_uri": "https://localhost:8080/"
        },
        "outputId": "8c06fa0b-cc3f-4453-8341-859ec67f7d4c"
      },
      "execution_count": null,
      "outputs": [
        {
          "output_type": "stream",
          "name": "stdout",
          "text": [
            "Finding \"Python\" in \"Python is a high level language\"\n",
            "Match found\n",
            "Finding \"standard\" in \"Python is a high level language\"\n",
            "No match\n"
          ]
        }
      ]
    },
    {
      "cell_type": "markdown",
      "source": [
        "**To implement different functions on matched objects**"
      ],
      "metadata": {
        "id": "qk7jE6Xx6RqQ"
      }
    },
    {
      "cell_type": "code",
      "source": [
        "import re\n",
        "pat = 'Python'\n",
        "string = \"Python is a high level language\"\n",
        "match = re.search(pat,string)\n",
        "s = match.start()\n",
        "print(s)\n",
        "e = match.end()\n",
        "print(e)\n",
        "sp = match.span()\n",
        "print(sp)\n",
        "print('The pattern %s is found in %s from %d to %d(\"%s\")'%(match.re.pattern,match.string, s,e,string[s:e]))"
      ],
      "metadata": {
        "id": "tV8lj8EI6dd3",
        "colab": {
          "base_uri": "https://localhost:8080/"
        },
        "outputId": "c547012c-cc48-41f9-fc85-4db2311deb46"
      },
      "execution_count": null,
      "outputs": [
        {
          "output_type": "stream",
          "name": "stdout",
          "text": [
            "0\n",
            "6\n",
            "(0, 6)\n",
            "The pattern Python is found in Python is a high level language from 0 to 6(\"Python\")\n"
          ]
        }
      ]
    },
    {
      "cell_type": "markdown",
      "source": [
        "**match()**"
      ],
      "metadata": {
        "id": "6yN5ZW5f3xKv"
      }
    },
    {
      "cell_type": "code",
      "source": [
        "pat = 'high'\n",
        "string = \"Python is a high level language\"\n",
        "print('String:', string)\n",
        "print('Pattern:', pat)\n",
        "match = re.match(pat, string)\n",
        "print(\"If any match found:\", match)\n",
        "string1 = \"high voltages are very dangerous\"\n",
        "print('String:', string1)\n",
        "print('Pattern:', pat)\n",
        "match1 = re.match(pat, string1)\n",
        "print(\"If any match found:\", match1)"
      ],
      "metadata": {
        "id": "1sAeBYAG3z7v",
        "colab": {
          "base_uri": "https://localhost:8080/"
        },
        "outputId": "ef98c6a9-f5e5-4845-dc66-52f85ad8460c"
      },
      "execution_count": null,
      "outputs": [
        {
          "output_type": "stream",
          "name": "stdout",
          "text": [
            "String: Python is a high level language\n",
            "Pattern: high\n",
            "If any match found: None\n",
            "String: high voltages are very dangerous\n",
            "Pattern: high\n",
            "If any match found: <re.Match object; span=(0, 4), match='high'>\n"
          ]
        }
      ]
    },
    {
      "cell_type": "markdown",
      "source": [
        "**findall()**"
      ],
      "metadata": {
        "id": "T8inEIe04BK_"
      }
    },
    {
      "cell_type": "code",
      "source": [
        "pattern = 'Python'\n",
        "string = 'My favourite language is Python. Python is a high level language'\n",
        "print(\"Using the findall()\")\n",
        "for match in re.findall(pattern,string):\n",
        "  print(\"found %s in %s\"% (pattern,string))\n",
        "  print(\"Using search()\")\n",
        "  if re.search(pattern,string): \n",
        "    print(\"Match\")\n",
        "else:\n",
        "  print(\"None\")"
      ],
      "metadata": {
        "id": "yRhygupv4Dzn",
        "colab": {
          "base_uri": "https://localhost:8080/"
        },
        "outputId": "d58c5b68-b94a-4c43-82f3-b3db092ad55e"
      },
      "execution_count": null,
      "outputs": [
        {
          "output_type": "stream",
          "name": "stdout",
          "text": [
            "Using the findall()\n",
            "found Python in My favourite language is Python. Python is a high level language\n",
            "Using search()\n",
            "Match\n",
            "found Python in My favourite language is Python. Python is a high level language\n",
            "Using search()\n",
            "Match\n",
            "None\n"
          ]
        }
      ]
    },
    {
      "cell_type": "markdown",
      "source": [
        "**split()**"
      ],
      "metadata": {
        "id": "Fz-wYpba4a8_"
      }
    },
    {
      "cell_type": "code",
      "source": [
        "lines = [\"FName: sam, LName: Kleene, Designation: Developer \",\"FName: ram, LName: Gor, Designation: tester\",\"FName: Rahul, LName: Kaur, Designation: Analyst \",]\n",
        "print(\"Using split()\")\n",
        "for line in lines:\n",
        "  print(re.split(\",* *\\w*: \", line))"
      ],
      "metadata": {
        "id": "ym9XGOrs4dcn",
        "colab": {
          "base_uri": "https://localhost:8080/"
        },
        "outputId": "6197a865-3759-429e-e6ef-2aa93b38b1a3"
      },
      "execution_count": null,
      "outputs": [
        {
          "output_type": "stream",
          "name": "stdout",
          "text": [
            "Using split()\n",
            "['', 'sam', 'Kleene', 'Developer ']\n",
            "['', 'ram', 'Gor', 'tester']\n",
            "['', 'Rahul', 'Kaur', 'Analyst ']\n"
          ]
        }
      ]
    },
    {
      "cell_type": "markdown",
      "source": [
        "**sub()**"
      ],
      "metadata": {
        "id": "sf7mMso94qqm"
      }
    },
    {
      "cell_type": "code",
      "source": [
        "import re\n",
        "string = 'My favourite language is Python. Python is a high level language'\n",
        "result = re.sub('language','Java',string)\n",
        "print(result)"
      ],
      "metadata": {
        "id": "015Xo97-4yOO",
        "colab": {
          "base_uri": "https://localhost:8080/"
        },
        "outputId": "d5249b48-4f16-4e4e-f08d-049ed0af3769"
      },
      "execution_count": null,
      "outputs": [
        {
          "output_type": "stream",
          "name": "stdout",
          "text": [
            "My favourite Java is Python. Python is a high level Java\n"
          ]
        }
      ]
    }
  ]
}